{
 "cells": [
  {
   "cell_type": "code",
   "execution_count": 1,
   "id": "b53a6c92",
   "metadata": {},
   "outputs": [],
   "source": [
    "import rasterio as rst"
   ]
  },
  {
   "cell_type": "code",
   "execution_count": 2,
   "id": "241c4525",
   "metadata": {},
   "outputs": [],
   "source": [
    "image_data = rst.open(r'../resourses/soil_moisture.tif')"
   ]
  },
  {
   "cell_type": "code",
   "execution_count": 3,
   "id": "6801f660",
   "metadata": {},
   "outputs": [
    {
     "name": "stdout",
     "output_type": "stream",
     "text": [
      "Система координат: EPSG:4326\n",
      "BoundingBox(left=29.566633136000007, bottom=49.434589403000004, right=31.185382877000006, top=50.486672568)\n"
     ]
    }
   ],
   "source": [
    "print(f'Система координат: {image_data.crs}\\n' + f'{image_data.bounds}', end = '\\n')"
   ]
  },
  {
   "cell_type": "code",
   "execution_count": 4,
   "id": "624859dc",
   "metadata": {},
   "outputs": [
    {
     "name": "stdout",
     "output_type": "stream",
     "text": [
      "[[65535 65535 65535 ... 65535 65535 65535]\n",
      " [65535 65535 65535 ... 65535 65535 65535]\n",
      " [65535 65535 65535 ... 65535 65535 65535]\n",
      " ...\n",
      " [65535 65535 65535 ... 65535 65535 65535]\n",
      " [65535 65535 65535 ... 65535 65535 65535]\n",
      " [65535 65535 65535 ... 65535 65535 65535]]\n"
     ]
    }
   ],
   "source": [
    "array = image_data.read(1)\n",
    "print(array)"
   ]
  },
  {
   "cell_type": "code",
   "execution_count": 5,
   "id": "f66efb2b",
   "metadata": {},
   "outputs": [
    {
     "name": "stdout",
     "output_type": "stream",
     "text": [
      "Містять коректне значення вологості: 169180\n",
      "Містять помилки розрахунку: 223205\n"
     ]
    }
   ],
   "source": [
    "calculation_error_value = 65535\n",
    "\n",
    "print(f'Містять коректне значення вологості: {array[array != calculation_error_value].size}')\n",
    "print(f'Містять помилки розрахунку: {array[array == calculation_error_value].size}')"
   ]
  }
 ],
 "metadata": {
  "kernelspec": {
   "display_name": "Python 3 (ipykernel)",
   "language": "python",
   "name": "python3"
  },
  "language_info": {
   "codemirror_mode": {
    "name": "ipython",
    "version": 3
   },
   "file_extension": ".py",
   "mimetype": "text/x-python",
   "name": "python",
   "nbconvert_exporter": "python",
   "pygments_lexer": "ipython3",
   "version": "3.11.3"
  }
 },
 "nbformat": 4,
 "nbformat_minor": 5
}
