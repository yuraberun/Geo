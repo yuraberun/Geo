{
 "cells": [
  {
   "cell_type": "code",
   "execution_count": 3,
   "id": "f8a1200e",
   "metadata": {},
   "outputs": [],
   "source": [
    "import geopandas"
   ]
  },
  {
   "cell_type": "code",
   "execution_count": 4,
   "id": "9eb4580c",
   "metadata": {},
   "outputs": [],
   "source": [
    "gdf = geopandas.read_file(\"../resourses/example_dataset.geojson\")"
   ]
  },
  {
   "cell_type": "code",
   "execution_count": 9,
   "id": "dd9b4634",
   "metadata": {},
   "outputs": [
    {
     "name": "stdout",
     "output_type": "stream",
     "text": [
      "Crs: EPSG:4326\n",
      "Кількість записів: 8000\n"
     ]
    }
   ],
   "source": [
    "print(f'Crs: {gdf.crs}\\n' + f'Кількість записів: {gdf.size}', end = '\\n')"
   ]
  },
  {
   "cell_type": "code",
   "execution_count": 16,
   "id": "a24cd859",
   "metadata": {},
   "outputs": [
    {
     "data": {
      "text/html": [
       "<div>\n",
       "<style scoped>\n",
       "    .dataframe tbody tr th:only-of-type {\n",
       "        vertical-align: middle;\n",
       "    }\n",
       "\n",
       "    .dataframe tbody tr th {\n",
       "        vertical-align: top;\n",
       "    }\n",
       "\n",
       "    .dataframe thead th {\n",
       "        text-align: right;\n",
       "    }\n",
       "</style>\n",
       "<table border=\"1\" class=\"dataframe\">\n",
       "  <thead>\n",
       "    <tr style=\"text-align: right;\">\n",
       "      <th></th>\n",
       "      <th>crop_name</th>\n",
       "      <th>sowing_date</th>\n",
       "      <th>actual_yield</th>\n",
       "      <th>field_id</th>\n",
       "      <th>avg_temperature</th>\n",
       "      <th>avg_rainfall</th>\n",
       "      <th>model_yield</th>\n",
       "      <th>geometry</th>\n",
       "    </tr>\n",
       "  </thead>\n",
       "  <tbody>\n",
       "    <tr>\n",
       "      <th>0</th>\n",
       "      <td>maiz</td>\n",
       "      <td>2016-04-10</td>\n",
       "      <td>7600.0</td>\n",
       "      <td>MS_VN_03_407</td>\n",
       "      <td>11.547103</td>\n",
       "      <td>572.463009</td>\n",
       "      <td>8903.0</td>\n",
       "      <td>MULTIPOLYGON (((28.16611 49.21513, 28.16624 49...</td>\n",
       "    </tr>\n",
       "    <tr>\n",
       "      <th>1</th>\n",
       "      <td>maiz</td>\n",
       "      <td>2016-04-11</td>\n",
       "      <td>7900.0</td>\n",
       "      <td>MS_VN_03_405</td>\n",
       "      <td>11.547103</td>\n",
       "      <td>574.831401</td>\n",
       "      <td>8814.0</td>\n",
       "      <td>MULTIPOLYGON (((28.16966 49.19427, 28.16936 49...</td>\n",
       "    </tr>\n",
       "    <tr>\n",
       "      <th>2</th>\n",
       "      <td>maiz</td>\n",
       "      <td>2016-04-12</td>\n",
       "      <td>7900.0</td>\n",
       "      <td>PA_KM_05_1802</td>\n",
       "      <td>12.190627</td>\n",
       "      <td>637.703767</td>\n",
       "      <td>8317.0</td>\n",
       "      <td>MULTIPOLYGON (((27.30659 48.87534, 27.30674 48...</td>\n",
       "    </tr>\n",
       "    <tr>\n",
       "      <th>3</th>\n",
       "      <td>maiz</td>\n",
       "      <td>2016-04-12</td>\n",
       "      <td>9000.0</td>\n",
       "      <td>MS_VN_03_410</td>\n",
       "      <td>11.756031</td>\n",
       "      <td>588.947718</td>\n",
       "      <td>8878.0</td>\n",
       "      <td>MULTIPOLYGON (((28.11488 49.21303, 28.11503 49...</td>\n",
       "    </tr>\n",
       "    <tr>\n",
       "      <th>4</th>\n",
       "      <td>maiz</td>\n",
       "      <td>2016-04-12</td>\n",
       "      <td>12100.0</td>\n",
       "      <td>KI_VN_10_0308</td>\n",
       "      <td>11.584644</td>\n",
       "      <td>595.795305</td>\n",
       "      <td>8996.0</td>\n",
       "      <td>MULTIPOLYGON (((28.86633 49.22147, 28.86651 49...</td>\n",
       "    </tr>\n",
       "    <tr>\n",
       "      <th>5</th>\n",
       "      <td>maiz</td>\n",
       "      <td>2016-04-13</td>\n",
       "      <td>7000.0</td>\n",
       "      <td>PA_KM_05_1803</td>\n",
       "      <td>12.190627</td>\n",
       "      <td>640.868072</td>\n",
       "      <td>8184.0</td>\n",
       "      <td>MULTIPOLYGON (((27.28864 48.87534, 27.28873 48...</td>\n",
       "    </tr>\n",
       "    <tr>\n",
       "      <th>6</th>\n",
       "      <td>maiz</td>\n",
       "      <td>2016-04-13</td>\n",
       "      <td>6400.0</td>\n",
       "      <td>PA_KM_05_1801</td>\n",
       "      <td>12.190627</td>\n",
       "      <td>640.868072</td>\n",
       "      <td>8184.0</td>\n",
       "      <td>MULTIPOLYGON (((27.29514 48.87655, 27.29317 48...</td>\n",
       "    </tr>\n",
       "    <tr>\n",
       "      <th>7</th>\n",
       "      <td>maiz</td>\n",
       "      <td>2016-04-13</td>\n",
       "      <td>7300.0</td>\n",
       "      <td>MS_VN_03_409</td>\n",
       "      <td>11.756031</td>\n",
       "      <td>597.970930</td>\n",
       "      <td>8965.0</td>\n",
       "      <td>MULTIPOLYGON (((28.12418 49.21158, 28.12390 49...</td>\n",
       "    </tr>\n",
       "    <tr>\n",
       "      <th>8</th>\n",
       "      <td>maiz</td>\n",
       "      <td>2016-04-13</td>\n",
       "      <td>11700.0</td>\n",
       "      <td>KI_VN_10_0302</td>\n",
       "      <td>11.584644</td>\n",
       "      <td>598.156220</td>\n",
       "      <td>8875.0</td>\n",
       "      <td>MULTIPOLYGON (((28.90721 49.23975, 28.90723 49...</td>\n",
       "    </tr>\n",
       "    <tr>\n",
       "      <th>9</th>\n",
       "      <td>maiz</td>\n",
       "      <td>2016-04-14</td>\n",
       "      <td>7100.0</td>\n",
       "      <td>PA_KM_05_1804</td>\n",
       "      <td>12.190627</td>\n",
       "      <td>646.445618</td>\n",
       "      <td>8211.0</td>\n",
       "      <td>MULTIPOLYGON (((27.28238 48.87403, 27.28251 48...</td>\n",
       "    </tr>\n",
       "  </tbody>\n",
       "</table>\n",
       "</div>"
      ],
      "text/plain": [
       "  crop_name sowing_date  actual_yield       field_id  avg_temperature   \n",
       "0      maiz  2016-04-10        7600.0   MS_VN_03_407        11.547103  \\\n",
       "1      maiz  2016-04-11        7900.0   MS_VN_03_405        11.547103   \n",
       "2      maiz  2016-04-12        7900.0  PA_KM_05_1802        12.190627   \n",
       "3      maiz  2016-04-12        9000.0   MS_VN_03_410        11.756031   \n",
       "4      maiz  2016-04-12       12100.0  KI_VN_10_0308        11.584644   \n",
       "5      maiz  2016-04-13        7000.0  PA_KM_05_1803        12.190627   \n",
       "6      maiz  2016-04-13        6400.0  PA_KM_05_1801        12.190627   \n",
       "7      maiz  2016-04-13        7300.0   MS_VN_03_409        11.756031   \n",
       "8      maiz  2016-04-13       11700.0  KI_VN_10_0302        11.584644   \n",
       "9      maiz  2016-04-14        7100.0  PA_KM_05_1804        12.190627   \n",
       "\n",
       "   avg_rainfall  model_yield   \n",
       "0    572.463009       8903.0  \\\n",
       "1    574.831401       8814.0   \n",
       "2    637.703767       8317.0   \n",
       "3    588.947718       8878.0   \n",
       "4    595.795305       8996.0   \n",
       "5    640.868072       8184.0   \n",
       "6    640.868072       8184.0   \n",
       "7    597.970930       8965.0   \n",
       "8    598.156220       8875.0   \n",
       "9    646.445618       8211.0   \n",
       "\n",
       "                                            geometry  \n",
       "0  MULTIPOLYGON (((28.16611 49.21513, 28.16624 49...  \n",
       "1  MULTIPOLYGON (((28.16966 49.19427, 28.16936 49...  \n",
       "2  MULTIPOLYGON (((27.30659 48.87534, 27.30674 48...  \n",
       "3  MULTIPOLYGON (((28.11488 49.21303, 28.11503 49...  \n",
       "4  MULTIPOLYGON (((28.86633 49.22147, 28.86651 49...  \n",
       "5  MULTIPOLYGON (((27.28864 48.87534, 27.28873 48...  \n",
       "6  MULTIPOLYGON (((27.29514 48.87655, 27.29317 48...  \n",
       "7  MULTIPOLYGON (((28.12418 49.21158, 28.12390 49...  \n",
       "8  MULTIPOLYGON (((28.90721 49.23975, 28.90723 49...  \n",
       "9  MULTIPOLYGON (((27.28238 48.87403, 27.28251 48...  "
      ]
     },
     "execution_count": 16,
     "metadata": {},
     "output_type": "execute_result"
    }
   ],
   "source": [
    "gdf.head(10)"
   ]
  },
  {
   "cell_type": "code",
   "execution_count": 58,
   "id": "0cdd5c24",
   "metadata": {},
   "outputs": [
    {
     "name": "stdout",
     "output_type": "stream",
     "text": [
      "Кількість культури maiz: 785\n",
      "Кількість культури soy: 209\n",
      "Кількість культури sun: 6\n"
     ]
    }
   ],
   "source": [
    "crop_names_list = gdf['crop_name'].tolist()\n",
    "\n",
    "for crop_type in list(dict.fromkeys(crop_names_list)):\n",
    "    print(f'Кількість культури {crop_type}: {crop_names_list.count(crop_type)}')"
   ]
  },
  {
   "cell_type": "code",
   "execution_count": 59,
   "id": "3ea61a24",
   "metadata": {
    "scrolled": true
   },
   "outputs": [
    {
     "name": "stdout",
     "output_type": "stream",
     "text": [
      "Мінімальна врожайність: \n",
      "crop_name                soy\n",
      "actual_yield           900.0\n",
      "field_id        MS_VN_02_502\n",
      "\n",
      "Максимальна врожайність: \n",
      "crop_name               maiz\n",
      "actual_yield         14500.0\n",
      "field_id        MS_VN_03_205\n"
     ]
    }
   ],
   "source": [
    "actual_list = gdf['actual_yield'].tolist()\n",
    "to_display = ['crop_name', 'actual_yield', 'field_id']\n",
    "\n",
    "min_index = actual_list.index(min(actual_list))\n",
    "max_index = actual_list.index(max(actual_list))\n",
    "min_info = gdf.iloc[min_actual_index][to_display].to_string()\n",
    "max_info = gdf.iloc[max_actual_index][to_display].to_string()\n",
    "\n",
    "print('Мінімальна врожайність: \\n' + f'{min_info}\\n', end = '\\n')\n",
    "print('Максимальна врожайність: \\n' + f'{max_info}', end = '\\n')"
   ]
  }
 ],
 "metadata": {
  "kernelspec": {
   "display_name": "Python 3 (ipykernel)",
   "language": "python",
   "name": "python3"
  },
  "language_info": {
   "codemirror_mode": {
    "name": "ipython",
    "version": 3
   },
   "file_extension": ".py",
   "mimetype": "text/x-python",
   "name": "python",
   "nbconvert_exporter": "python",
   "pygments_lexer": "ipython3",
   "version": "3.11.3"
  }
 },
 "nbformat": 4,
 "nbformat_minor": 5
}
